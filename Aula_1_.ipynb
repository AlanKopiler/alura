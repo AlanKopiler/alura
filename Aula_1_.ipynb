{
  "nbformat": 4,
  "nbformat_minor": 0,
  "metadata": {
    "colab": {
      "name": "Aula 1 .ipynb",
      "provenance": [],
      "collapsed_sections": [],
      "authorship_tag": "ABX9TyMTia6d3ZOx6uHXXH8ZPAIC",
      "include_colab_link": true
    },
    "kernelspec": {
      "name": "python3",
      "display_name": "Python 3"
    }
  },
  "cells": [
    {
      "cell_type": "markdown",
      "metadata": {
        "id": "view-in-github",
        "colab_type": "text"
      },
      "source": [
        "<a href=\"https://colab.research.google.com/github/AlanKopiler/alura/blob/main/Aula_1_.ipynb\" target=\"_parent\"><img src=\"https://colab.research.google.com/assets/colab-badge.svg\" alt=\"Open In Colab\"/></a>"
      ]
    },
    {
      "cell_type": "code",
      "metadata": {
        "id": "0qbB2CiSpe4s"
      },
      "source": [
        "import pandas as pd\n",
        "import matplotlib.pyplot as plt\n",
        "\n",
        "fonte = \"https://github.com/alura-cursos/imersao-dados-2-2020/blob/master/MICRODADOS_ENEM_2019_SAMPLE_43278.csv?raw=true\"\n",
        "\n",
        "dados = pd.read_csv(fonte)\n",
        "\n"
      ],
      "execution_count": 18,
      "outputs": []
    },
    {
      "cell_type": "markdown",
      "metadata": {
        "id": "8GCRNuAE6VWK"
      },
      "source": [
        "### **Desafio 1**"
      ]
    },
    {
      "cell_type": "code",
      "metadata": {
        "id": "OP7zzts0uLlq",
        "outputId": "34f94197-ac07-4819-ee5a-01a21ff2d558",
        "colab": {
          "base_uri": "https://localhost:8080/",
          "height": 958
        }
      },
      "source": [
        "dados.query(\"NU_IDADE>17 & NU_IDADE<73\")[\"NU_IDADE\"].value_counts().sort_index()"
      ],
      "execution_count": 19,
      "outputs": [
        {
          "output_type": "execute_result",
          "data": {
            "text/plain": [
              "18    21452\n",
              "19    14418\n",
              "20    10413\n",
              "21     7267\n",
              "22     5924\n",
              "23     4668\n",
              "24     3838\n",
              "25     3128\n",
              "26     2717\n",
              "27     2214\n",
              "28     1967\n",
              "29     1620\n",
              "30     1594\n",
              "31     1460\n",
              "32     1307\n",
              "33     1163\n",
              "34     1029\n",
              "35      934\n",
              "36      893\n",
              "37      890\n",
              "38      790\n",
              "39      699\n",
              "40      642\n",
              "41      548\n",
              "42      487\n",
              "43      442\n",
              "44      396\n",
              "45      378\n",
              "46      342\n",
              "47      302\n",
              "48      280\n",
              "49      269\n",
              "50      219\n",
              "51      186\n",
              "52      203\n",
              "53      165\n",
              "54      146\n",
              "55      116\n",
              "56      109\n",
              "57      100\n",
              "58       64\n",
              "59       60\n",
              "60       48\n",
              "61       47\n",
              "62       39\n",
              "63       45\n",
              "64       32\n",
              "65       13\n",
              "66       13\n",
              "67       15\n",
              "68       14\n",
              "69       12\n",
              "70        9\n",
              "71        4\n",
              "72        3\n",
              "Name: NU_IDADE, dtype: int64"
            ]
          },
          "metadata": {
            "tags": []
          },
          "execution_count": 19
        }
      ]
    },
    {
      "cell_type": "code",
      "metadata": {
        "id": "o1b3MCsfuhaF",
        "outputId": "0eee83a4-9690-4dff-8521-c195c6c9e0a8",
        "colab": {
          "base_uri": "https://localhost:8080/",
          "height": 218
        }
      },
      "source": [
        "dados.query(\"IN_TREINEIRO==0\")[\"NU_IDADE\"].value_counts().sort_index()"
      ],
      "execution_count": 16,
      "outputs": [
        {
          "output_type": "execute_result",
          "data": {
            "text/plain": [
              "13        4\n",
              "14      141\n",
              "15     2009\n",
              "16     7830\n",
              "17    21256\n",
              "      ...  \n",
              "73        2\n",
              "75        2\n",
              "76        1\n",
              "77        1\n",
              "82        1\n",
              "Name: NU_IDADE, Length: 65, dtype: int64"
            ]
          },
          "metadata": {
            "tags": []
          },
          "execution_count": 16
        }
      ]
    },
    {
      "cell_type": "code",
      "metadata": {
        "id": "Ii4NduHVAHJW",
        "outputId": "66217326-64d8-45b9-b5a9-7434ebd78864",
        "colab": {
          "base_uri": "https://localhost:8080/",
          "height": 958
        }
      },
      "source": [
        "total = len(dados.NU_INSCRICAO.value_counts())\n",
        "dados.query(\"NU_IDADE>17 & NU_IDADE<73\")[\"NU_IDADE\"].value_counts().sort_index()/total*100"
      ],
      "execution_count": 36,
      "outputs": [
        {
          "output_type": "execute_result",
          "data": {
            "text/plain": [
              "18    16.840948\n",
              "19    11.318888\n",
              "20     8.174753\n",
              "21     5.704977\n",
              "22     4.650652\n",
              "23     3.664626\n",
              "24     3.013032\n",
              "25     2.455645\n",
              "26     2.132988\n",
              "27     1.738106\n",
              "28     1.544198\n",
              "29     1.271785\n",
              "30     1.251374\n",
              "31     1.146177\n",
              "32     1.026064\n",
              "33     0.913016\n",
              "34     0.807819\n",
              "35     0.733239\n",
              "36     0.701052\n",
              "37     0.698697\n",
              "38     0.620192\n",
              "39     0.548752\n",
              "40     0.504004\n",
              "41     0.430209\n",
              "42     0.382321\n",
              "43     0.346993\n",
              "44     0.310881\n",
              "45     0.296750\n",
              "46     0.268488\n",
              "47     0.237086\n",
              "48     0.219815\n",
              "49     0.211179\n",
              "50     0.171927\n",
              "51     0.146020\n",
              "52     0.159366\n",
              "53     0.129534\n",
              "54     0.114618\n",
              "55     0.091066\n",
              "56     0.085571\n",
              "57     0.078505\n",
              "58     0.050243\n",
              "59     0.047103\n",
              "60     0.037683\n",
              "61     0.036897\n",
              "62     0.030617\n",
              "63     0.035327\n",
              "64     0.025122\n",
              "65     0.010206\n",
              "66     0.010206\n",
              "67     0.011776\n",
              "68     0.010991\n",
              "69     0.009421\n",
              "70     0.007065\n",
              "71     0.003140\n",
              "72     0.002355\n",
              "Name: NU_IDADE, dtype: float64"
            ]
          },
          "metadata": {
            "tags": []
          },
          "execution_count": 36
        }
      ]
    },
    {
      "cell_type": "code",
      "metadata": {
        "id": "YI_V8_KGAwZr",
        "outputId": "3ab1f604-2e9f-4150-ef6c-390a551721b9",
        "colab": {
          "base_uri": "https://localhost:8080/",
          "height": 218
        }
      },
      "source": [
        "total = len(dados.NU_INSCRICAO.value_counts())\n",
        "dados.query(\"IN_TREINEIRO==0\")[\"NU_IDADE\"].value_counts().sort_index()/total*100"
      ],
      "execution_count": 37,
      "outputs": [
        {
          "output_type": "execute_result",
          "data": {
            "text/plain": [
              "13     0.003140\n",
              "14     0.060449\n",
              "15     0.064374\n",
              "16     0.540116\n",
              "17    12.839535\n",
              "        ...    \n",
              "73     0.001570\n",
              "75     0.001570\n",
              "76     0.000785\n",
              "77     0.000785\n",
              "82     0.000785\n",
              "Name: NU_IDADE, Length: 65, dtype: float64"
            ]
          },
          "metadata": {
            "tags": []
          },
          "execution_count": 37
        }
      ]
    },
    {
      "cell_type": "code",
      "metadata": {
        "id": "TqDsVkSBrtdT",
        "outputId": "8f4c7500-3475-4afd-940c-e99c0c63cee2",
        "colab": {
          "base_uri": "https://localhost:8080/",
          "height": 500
        }
      },
      "source": [
        "dados[\"NU_IDADE\"].hist(bins = 20, figsize = (10,8))"
      ],
      "execution_count": 11,
      "outputs": [
        {
          "output_type": "execute_result",
          "data": {
            "text/plain": [
              "<matplotlib.axes._subplots.AxesSubplot at 0x7f21cc9a9128>"
            ]
          },
          "metadata": {
            "tags": []
          },
          "execution_count": 11
        },
        {
          "output_type": "display_data",
          "data": {
            "image/png": "[encoded data removed]",
            "text/plain": [
              "<Figure size 720x576 with 1 Axes>"
            ]
          },
          "metadata": {
            "tags": [],
            "needs_background": "light"
          }
        }
      ]
    },
    {
      "cell_type": "markdown",
      "metadata": {
        "id": "VKEyVq1z7CRF"
      },
      "source": [
        "## **Desafio 2**"
      ]
    },
    {
      "cell_type": "code",
      "metadata": {
        "id": "XDQWnouHwj5f",
        "outputId": "d9508f0d-0dcd-4fda-f3a9-ac178b7189e5",
        "colab": {
          "base_uri": "https://localhost:8080/",
          "height": 101
        }
      },
      "source": [
        "dados.query(\"NU_IDADE==13\")[\"SG_UF_RESIDENCIA\"]"
      ],
      "execution_count": 16,
      "outputs": [
        {
          "output_type": "execute_result",
          "data": {
            "text/plain": [
              "57359     SP\n",
              "95630     MT\n",
              "98197     AP\n",
              "116501    BA\n",
              "Name: SG_UF_RESIDENCIA, dtype: object"
            ]
          },
          "metadata": {
            "tags": []
          },
          "execution_count": 16
        }
      ]
    },
    {
      "cell_type": "markdown",
      "metadata": {
        "id": "R--AF9Af7ZJ0"
      },
      "source": [
        "## Desafio 3"
      ]
    },
    {
      "cell_type": "code",
      "metadata": {
        "id": "nxuYgIqMtQe2",
        "outputId": "d915f138-1f0f-4346-fab1-d6f2f346f86e",
        "colab": {
          "base_uri": "https://localhost:8080/",
          "height": 281
        }
      },
      "source": [
        "\n",
        "x=dados.NU_IDADE.value_counts().sort_index()\n",
        "plt.plot(x)\n",
        "plt.plot()\n",
        "\n",
        "plt.title(\"número de pessoas por idade\")\n",
        "\n",
        "plt.show()"
      ],
      "execution_count": 60,
      "outputs": [
        {
          "output_type": "display_data",
          "data": {
            "image/png": "[encoded data removed]",
            "text/plain": [
              "<Figure size 432x288 with 1 Axes>"
            ]
          },
          "metadata": {
            "tags": [],
            "needs_background": "light"
          }
        }
      ]
    },
    {
      "cell_type": "markdown",
      "metadata": {
        "id": "tTCGA3o374p-"
      },
      "source": [
        "## Desafio 4"
      ]
    },
    {
      "cell_type": "code",
      "metadata": {
        "id": "02eBVOVnl_yM",
        "outputId": "badecda1-8d9b-4f15-9330-ab1b26518eea",
        "colab": {
          "base_uri": "https://localhost:8080/",
          "height": 500
        }
      },
      "source": [
        "dados.query(\"IN_TREINEIRO==1\")[\"NU_IDADE\"].hist(bins = 20, figsize = (10,8))"
      ],
      "execution_count": 8,
      "outputs": [
        {
          "output_type": "execute_result",
          "data": {
            "text/plain": [
              "<matplotlib.axes._subplots.AxesSubplot at 0x7f6cabc20ba8>"
            ]
          },
          "metadata": {
            "tags": []
          },
          "execution_count": 8
        },
        {
          "output_type": "display_data",
          "data": {
            "image/png": "[encoded data removed]",
            "text/plain": [
              "<Figure size 720x576 with 1 Axes>"
            ]
          },
          "metadata": {
            "tags": [],
            "needs_background": "light"
          }
        }
      ]
    },
    {
      "cell_type": "code",
      "metadata": {
        "id": "v51gZbqInDfn",
        "outputId": "d73b82b6-508a-4d9d-d839-0d78b28bc6f6",
        "colab": {
          "base_uri": "https://localhost:8080/",
          "height": 500
        }
      },
      "source": [
        "dados.query(\"IN_TREINEIRO==0\")[\"NU_IDADE\"].hist(bins = 20, figsize = (10,8))"
      ],
      "execution_count": 9,
      "outputs": [
        {
          "output_type": "execute_result",
          "data": {
            "text/plain": [
              "<matplotlib.axes._subplots.AxesSubplot at 0x7f6cae810b38>"
            ]
          },
          "metadata": {
            "tags": []
          },
          "execution_count": 9
        },
        {
          "output_type": "display_data",
          "data": {
            "image/png": "[encoded data removed]",
            "text/plain": [
              "<Figure size 720x576 with 1 Axes>"
            ]
          },
          "metadata": {
            "tags": [],
            "needs_background": "light"
          }
        }
      ]
    },
    {
      "cell_type": "code",
      "metadata": {
        "id": "MGCjXzN6B1Ae",
        "outputId": "1b37bb74-bfd7-41eb-d516-9c33d0813de5",
        "colab": {
          "base_uri": "https://localhost:8080/",
          "height": 295
        }
      },
      "source": [
        "\n",
        "l=['Treineiros', 'Não treineiros']\n",
        "\n",
        "plt.hist([dados.query(\"IN_TREINEIRO==1\")['NU_IDADE'],dados.query(\"IN_TREINEIRO==0\")['NU_IDADE']], bins=20, label = l )\n",
        "plt.legend(loc='upper right')\n",
        "plt.grid(True)\n",
        "plt.xlabel('Idade')\n",
        "plt.ylabel('Número de Inscritos')\n",
        "plt.title(\"distribuição das idades entre treineiros e não treineiros\")\n",
        "plt.show()"
      ],
      "execution_count": 17,
      "outputs": [
        {
          "output_type": "display_data",
          "data": {
            "image/png": "[encoded data removed]",
            "text/plain": [
              "<Figure size 432x288 with 1 Axes>"
            ]
          },
          "metadata": {
            "tags": [],
            "needs_background": "light"
          }
        }
      ]
    },
    {
      "cell_type": "code",
      "metadata": {
        "id": "L6fKnusqpKow",
        "outputId": "7d17c4a7-4ae4-45e1-b3a6-fd5d30df0d4d",
        "colab": {
          "base_uri": "https://localhost:8080/",
          "height": 67
        }
      },
      "source": [
        "dados[\"TP_LINGUA\"].value_counts()"
      ],
      "execution_count": 19,
      "outputs": [
        {
          "output_type": "execute_result",
          "data": {
            "text/plain": [
              "1    66809\n",
              "0    60571\n",
              "Name: TP_LINGUA, dtype: int64"
            ]
          },
          "metadata": {
            "tags": []
          },
          "execution_count": 19
        }
      ]
    },
    {
      "cell_type": "markdown",
      "metadata": {
        "id": "mRJ6YpIM8DaC"
      },
      "source": [
        "## **Desafio 5 e 6**"
      ]
    },
    {
      "cell_type": "code",
      "metadata": {
        "id": "Jima-88y1Qkz",
        "outputId": "0c590163-5476-40b4-c63b-26e108e69c85",
        "colab": {
          "base_uri": "https://localhost:8080/",
          "height": 278
        }
      },
      "source": [
        "dados.TP_LINGUA.value_counts().plot(kind='bar')\n",
        "plt.title('Qauntidade de inscritos que optaram por prova de inglês e espanhol')\n",
        "\n",
        "plt.show()"
      ],
      "execution_count": 35,
      "outputs": [
        {
          "output_type": "display_data",
          "data": {
            "image/png": "[encoded data removed]",
            "text/plain": [
              "<Figure size 432x288 with 1 Axes>"
            ]
          },
          "metadata": {
            "tags": [],
            "needs_background": "light"
          }
        }
      ]
    }
  ]
}